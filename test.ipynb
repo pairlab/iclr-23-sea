{
 "cells": [
  {
   "cell_type": "code",
   "execution_count": 1,
   "metadata": {},
   "outputs": [],
   "source": [
    "import joblib\n",
    "import numpy as np\n",
    "from pathlib import Path"
   ]
  },
  {
   "cell_type": "code",
   "execution_count": 4,
   "metadata": {},
   "outputs": [
    {
     "name": "stdout",
     "output_type": "stream",
     "text": [
      "/home/footoredo/logs/iclr-23-sea/crafter/clustering/test-clustering\n"
     ]
    }
   ],
   "source": [
    "data_root = open(\"LOGDIR\", \"r\").readline().strip()\n",
    "data_path = Path(data_root) / \"crafter\" / \"clustering\" / \"test-clustering\"\n",
    "print(data_path)"
   ]
  },
  {
   "cell_type": "code",
   "execution_count": 3,
   "metadata": {},
   "outputs": [
    {
     "name": "stdout",
     "output_type": "stream",
     "text": [
      "['achievement-0', 'achievement-1', 'achievement-2', 'achievement-3', 'achievement-4', 'achievement-5', 'achievement-6', 'achievement-7', 'achievement-8', 'achievement-9', 'achievement-10', 'achievement-11', 'achievement-12', 'achievement-13', 'achievement-14', 'achievement-15', 'achievement-16']\n",
      "0.0867452323436737\n",
      "(17, 17)\n"
     ]
    }
   ],
   "source": [
    "cluster_data = joblib.load(data_path / \"cluster.data\")\n",
    "print(cluster_data[\"names\"])\n",
    "print(cluster_data[\"threshold\"])\n",
    "graph = joblib.load(data_path / \"graph.data\")\n",
    "print(graph.shape)"
   ]
  }
 ],
 "metadata": {
  "kernelspec": {
   "display_name": "iclr-23-sea",
   "language": "python",
   "name": "python3"
  },
  "language_info": {
   "codemirror_mode": {
    "name": "ipython",
    "version": 3
   },
   "file_extension": ".py",
   "mimetype": "text/x-python",
   "name": "python",
   "nbconvert_exporter": "python",
   "pygments_lexer": "ipython3",
   "version": "3.7.16"
  },
  "orig_nbformat": 4
 },
 "nbformat": 4,
 "nbformat_minor": 2
}
